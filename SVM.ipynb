{
 "cells": [
  {
   "cell_type": "code",
   "execution_count": 1,
   "id": "4fd16311-da33-4b56-974b-dd7b02da8679",
   "metadata": {},
   "outputs": [],
   "source": [
    "import pandas as pd\n",
    "import numpy as np\n",
    "from sklearn.svm import LinearSVC, SVC\n",
    "from sklearn.model_selection import train_test_split\n",
    "from sklearn.model_selection import RandomizedSearchCV\n",
    "from sklearn.preprocessing import StandardScaler\n",
    "from sklearn.linear_model import LogisticRegression\n",
    "import matplotlib.pyplot as plt\n",
    "import seaborn as sns\n",
    "import tensorflow as tf"
   ]
  },
  {
   "cell_type": "code",
   "execution_count": 2,
   "id": "5c43b5cf-9e9a-4dbd-b992-c497d02cea4a",
   "metadata": {},
   "outputs": [],
   "source": [
    "np.random.seed(0)"
   ]
  },
  {
   "cell_type": "code",
   "execution_count": 3,
   "id": "4f3ef319-bb71-4ed1-8dad-9435633331b5",
   "metadata": {},
   "outputs": [],
   "source": [
    "x_dev = pd.read_csv('/Users/jennaiorio/Documents/Columbia/Spring 2024/Applied Machine Learning/Final Project/x_train_2.csv', index_col=[0])\n",
    "y_dev = pd.read_csv('/Users/jennaiorio/Documents/Columbia/Spring 2024/Applied Machine Learning/Final Project/y_train_2.csv', index_col=[0])\n",
    "x_test = pd.read_csv('/Users/jennaiorio/Documents/Columbia/Spring 2024/Applied Machine Learning/Final Project/x_test_2.csv', index_col=[0])\n",
    "y_test = pd.read_csv('/Users/jennaiorio/Documents/Columbia/Spring 2024/Applied Machine Learning/Final Project/y_test_2.csv', index_col=[0])"
   ]
  },
  {
   "cell_type": "code",
   "execution_count": 4,
   "id": "3c3bc3bc-72fc-4888-9f6c-bcdc299bce58",
   "metadata": {},
   "outputs": [],
   "source": [
    "y_dev = np.ravel(y_dev)\n",
    "y_test = np.ravel(y_test)"
   ]
  },
  {
   "cell_type": "code",
   "execution_count": 5,
   "id": "ba93bfc4-c712-4d70-bb26-9d8a3a3c09ed",
   "metadata": {},
   "outputs": [],
   "source": [
    "x_train, x_val, y_train, y_val = train_test_split(x_dev, y_dev, train_size=0.8, random_state=0)"
   ]
  },
  {
   "cell_type": "code",
   "execution_count": 6,
   "id": "cec3e029-191f-4bf0-94d5-5b52378885c0",
   "metadata": {},
   "outputs": [
    {
     "data": {
      "text/plain": [
       "[]"
      ]
     },
     "execution_count": 6,
     "metadata": {},
     "output_type": "execute_result"
    }
   ],
   "source": [
    "# Checking for highly correlated features\n",
    "# There are none\n",
    "\n",
    "high_corr = []\n",
    "for i, category1 in enumerate(x_dev.columns):\n",
    "    for category2 in x_dev.columns[i:]:\n",
    "        if category1 == category2:\n",
    "            continue\n",
    "        if (x_dev.corr()[category1][category2] >= 0.9 or \n",
    "            x_dev.corr()[category1][category2] <= -0.9):\n",
    "            high_corr.append((category1, category2, x_dev.corr()[category1][category2]))\n",
    "high_corr"
   ]
  },
  {
   "cell_type": "code",
   "execution_count": 7,
   "id": "8a57506a-55fb-4098-8718-2a26a259f55d",
   "metadata": {},
   "outputs": [],
   "source": [
    "# Scale features\n",
    "\n",
    "ss = StandardScaler()\n",
    "x_train_sc = ss.fit_transform(x_train)\n",
    "x_val_sc = ss.transform(x_val)\n",
    "x_test_sc = ss.transform(x_test)"
   ]
  },
  {
   "cell_type": "code",
   "execution_count": 8,
   "id": "590eab81-38ba-4977-8407-834472be8631",
   "metadata": {},
   "outputs": [
    {
     "data": {
      "text/plain": [
       "{'Train Score': 0.9355007865757735,\n",
       " 'Validation Score': 0.8784067085953878,\n",
       " 'Test Score': 0.6027397260273972}"
      ]
     },
     "execution_count": 8,
     "metadata": {},
     "output_type": "execute_result"
    }
   ],
   "source": [
    "# Linear SVC\n",
    "\n",
    "scores = {}\n",
    "\n",
    "model = LinearSVC(dual=False, random_state=0)\n",
    "model.fit(x_train, np.ravel(y_train))\n",
    "\n",
    "pred_train = model.predict(x_train)\n",
    "train_score = np.mean(pred_train == y_train)\n",
    "scores['Train Score'] = train_score\n",
    "\n",
    "pred_val = model.predict(x_val)\n",
    "val_score = np.mean(pred_val == y_val)\n",
    "scores['Validation Score'] = val_score\n",
    "\n",
    "pred_test = model.predict(x_test)\n",
    "test_score = np.mean(pred_test == y_test)\n",
    "scores['Test Score'] = test_score\n",
    "\n",
    "scores"
   ]
  },
  {
   "cell_type": "code",
   "execution_count": 9,
   "id": "918b98d4-bf10-498e-afec-0f10d7007fb0",
   "metadata": {},
   "outputs": [
    {
     "data": {
      "text/plain": [
       "{'Train Score': 0.940744625065548,\n",
       " 'Validation Score': 0.8846960167714885,\n",
       " 'Test Score': 0.5616438356164384}"
      ]
     },
     "execution_count": 9,
     "metadata": {},
     "output_type": "execute_result"
    }
   ],
   "source": [
    "# Linear SVC with scaled data\n",
    "\n",
    "scores = {}\n",
    "\n",
    "model = LinearSVC(dual=False, random_state=0)\n",
    "model.fit(x_train_sc, np.ravel(y_train))\n",
    "\n",
    "pred_train = model.predict(x_train_sc)\n",
    "train_score = np.mean(pred_train == y_train)\n",
    "scores['Train Score'] = train_score\n",
    "\n",
    "pred_val = model.predict(x_val_sc)\n",
    "val_score = np.mean(pred_val == y_val)\n",
    "scores['Validation Score'] = val_score\n",
    "\n",
    "pred_test = model.predict(x_test_sc)\n",
    "test_score = np.mean(pred_test == y_test)\n",
    "scores['Test Score'] = test_score\n",
    "\n",
    "scores"
   ]
  },
  {
   "cell_type": "code",
   "execution_count": 10,
   "id": "aaec0bc1-1bdb-4b26-a123-ddac6a3fb739",
   "metadata": {},
   "outputs": [
    {
     "data": {
      "text/plain": [
       "{'Dev Score': 0.9303691275167785, 'Test Score': 0.5684931506849316}"
      ]
     },
     "execution_count": 10,
     "metadata": {},
     "output_type": "execute_result"
    }
   ],
   "source": [
    "# Linear SVC training on whole dev set\n",
    "\n",
    "scores = {}\n",
    "\n",
    "model = LinearSVC(dual=False, random_state=0)\n",
    "model.fit(x_dev, np.ravel(y_dev))\n",
    "\n",
    "pred_dev = model.predict(x_dev)\n",
    "dev_score = np.mean(pred_dev == y_dev)\n",
    "scores['Dev Score'] = dev_score\n",
    "\n",
    "pred_test = model.predict(x_test)\n",
    "test_score = np.mean(pred_test == y_test)\n",
    "scores['Test Score'] = test_score\n",
    "\n",
    "scores"
   ]
  },
  {
   "cell_type": "code",
   "execution_count": 11,
   "id": "4a2d8460-6a34-4eab-8537-16d91fbd824c",
   "metadata": {},
   "outputs": [
    {
     "name": "stderr",
     "output_type": "stream",
     "text": [
      "/opt/anaconda3/lib/python3.11/site-packages/sklearn/model_selection/_search.py:305: UserWarning: The total space of parameters 5 is smaller than n_iter=10. Running 5 iterations. For exhaustive searches, use GridSearchCV.\n",
      "  warnings.warn(\n",
      "/opt/anaconda3/lib/python3.11/site-packages/sklearn/svm/_base.py:1244: ConvergenceWarning: Liblinear failed to converge, increase the number of iterations.\n",
      "  warnings.warn(\n",
      "/opt/anaconda3/lib/python3.11/site-packages/sklearn/svm/_base.py:1244: ConvergenceWarning: Liblinear failed to converge, increase the number of iterations.\n",
      "  warnings.warn(\n",
      "/opt/anaconda3/lib/python3.11/site-packages/sklearn/svm/_base.py:1244: ConvergenceWarning: Liblinear failed to converge, increase the number of iterations.\n",
      "  warnings.warn(\n",
      "/opt/anaconda3/lib/python3.11/site-packages/sklearn/svm/_base.py:1244: ConvergenceWarning: Liblinear failed to converge, increase the number of iterations.\n",
      "  warnings.warn(\n",
      "/opt/anaconda3/lib/python3.11/site-packages/sklearn/svm/_base.py:1244: ConvergenceWarning: Liblinear failed to converge, increase the number of iterations.\n",
      "  warnings.warn(\n",
      "/opt/anaconda3/lib/python3.11/site-packages/sklearn/svm/_base.py:1244: ConvergenceWarning: Liblinear failed to converge, increase the number of iterations.\n",
      "  warnings.warn(\n",
      "/opt/anaconda3/lib/python3.11/site-packages/sklearn/svm/_base.py:1244: ConvergenceWarning: Liblinear failed to converge, increase the number of iterations.\n",
      "  warnings.warn(\n",
      "/opt/anaconda3/lib/python3.11/site-packages/sklearn/svm/_base.py:1244: ConvergenceWarning: Liblinear failed to converge, increase the number of iterations.\n",
      "  warnings.warn(\n",
      "/opt/anaconda3/lib/python3.11/site-packages/sklearn/svm/_base.py:1244: ConvergenceWarning: Liblinear failed to converge, increase the number of iterations.\n",
      "  warnings.warn(\n",
      "/opt/anaconda3/lib/python3.11/site-packages/sklearn/svm/_base.py:1244: ConvergenceWarning: Liblinear failed to converge, increase the number of iterations.\n",
      "  warnings.warn(\n",
      "/opt/anaconda3/lib/python3.11/site-packages/sklearn/svm/_base.py:1244: ConvergenceWarning: Liblinear failed to converge, increase the number of iterations.\n",
      "  warnings.warn(\n",
      "/opt/anaconda3/lib/python3.11/site-packages/sklearn/svm/_base.py:1244: ConvergenceWarning: Liblinear failed to converge, increase the number of iterations.\n",
      "  warnings.warn(\n",
      "/opt/anaconda3/lib/python3.11/site-packages/sklearn/svm/_base.py:1244: ConvergenceWarning: Liblinear failed to converge, increase the number of iterations.\n",
      "  warnings.warn(\n",
      "/opt/anaconda3/lib/python3.11/site-packages/sklearn/svm/_base.py:1244: ConvergenceWarning: Liblinear failed to converge, increase the number of iterations.\n",
      "  warnings.warn(\n",
      "/opt/anaconda3/lib/python3.11/site-packages/sklearn/svm/_base.py:1244: ConvergenceWarning: Liblinear failed to converge, increase the number of iterations.\n",
      "  warnings.warn(\n",
      "/opt/anaconda3/lib/python3.11/site-packages/sklearn/svm/_base.py:1244: ConvergenceWarning: Liblinear failed to converge, increase the number of iterations.\n",
      "  warnings.warn(\n",
      "/opt/anaconda3/lib/python3.11/site-packages/sklearn/svm/_base.py:1244: ConvergenceWarning: Liblinear failed to converge, increase the number of iterations.\n",
      "  warnings.warn(\n"
     ]
    },
    {
     "data": {
      "text/html": [
       "<style>#sk-container-id-1 {color: black;background-color: white;}#sk-container-id-1 pre{padding: 0;}#sk-container-id-1 div.sk-toggleable {background-color: white;}#sk-container-id-1 label.sk-toggleable__label {cursor: pointer;display: block;width: 100%;margin-bottom: 0;padding: 0.3em;box-sizing: border-box;text-align: center;}#sk-container-id-1 label.sk-toggleable__label-arrow:before {content: \"▸\";float: left;margin-right: 0.25em;color: #696969;}#sk-container-id-1 label.sk-toggleable__label-arrow:hover:before {color: black;}#sk-container-id-1 div.sk-estimator:hover label.sk-toggleable__label-arrow:before {color: black;}#sk-container-id-1 div.sk-toggleable__content {max-height: 0;max-width: 0;overflow: hidden;text-align: left;background-color: #f0f8ff;}#sk-container-id-1 div.sk-toggleable__content pre {margin: 0.2em;color: black;border-radius: 0.25em;background-color: #f0f8ff;}#sk-container-id-1 input.sk-toggleable__control:checked~div.sk-toggleable__content {max-height: 200px;max-width: 100%;overflow: auto;}#sk-container-id-1 input.sk-toggleable__control:checked~label.sk-toggleable__label-arrow:before {content: \"▾\";}#sk-container-id-1 div.sk-estimator input.sk-toggleable__control:checked~label.sk-toggleable__label {background-color: #d4ebff;}#sk-container-id-1 div.sk-label input.sk-toggleable__control:checked~label.sk-toggleable__label {background-color: #d4ebff;}#sk-container-id-1 input.sk-hidden--visually {border: 0;clip: rect(1px 1px 1px 1px);clip: rect(1px, 1px, 1px, 1px);height: 1px;margin: -1px;overflow: hidden;padding: 0;position: absolute;width: 1px;}#sk-container-id-1 div.sk-estimator {font-family: monospace;background-color: #f0f8ff;border: 1px dotted black;border-radius: 0.25em;box-sizing: border-box;margin-bottom: 0.5em;}#sk-container-id-1 div.sk-estimator:hover {background-color: #d4ebff;}#sk-container-id-1 div.sk-parallel-item::after {content: \"\";width: 100%;border-bottom: 1px solid gray;flex-grow: 1;}#sk-container-id-1 div.sk-label:hover label.sk-toggleable__label {background-color: #d4ebff;}#sk-container-id-1 div.sk-serial::before {content: \"\";position: absolute;border-left: 1px solid gray;box-sizing: border-box;top: 0;bottom: 0;left: 50%;z-index: 0;}#sk-container-id-1 div.sk-serial {display: flex;flex-direction: column;align-items: center;background-color: white;padding-right: 0.2em;padding-left: 0.2em;position: relative;}#sk-container-id-1 div.sk-item {position: relative;z-index: 1;}#sk-container-id-1 div.sk-parallel {display: flex;align-items: stretch;justify-content: center;background-color: white;position: relative;}#sk-container-id-1 div.sk-item::before, #sk-container-id-1 div.sk-parallel-item::before {content: \"\";position: absolute;border-left: 1px solid gray;box-sizing: border-box;top: 0;bottom: 0;left: 50%;z-index: -1;}#sk-container-id-1 div.sk-parallel-item {display: flex;flex-direction: column;z-index: 1;position: relative;background-color: white;}#sk-container-id-1 div.sk-parallel-item:first-child::after {align-self: flex-end;width: 50%;}#sk-container-id-1 div.sk-parallel-item:last-child::after {align-self: flex-start;width: 50%;}#sk-container-id-1 div.sk-parallel-item:only-child::after {width: 0;}#sk-container-id-1 div.sk-dashed-wrapped {border: 1px dashed gray;margin: 0 0.4em 0.5em 0.4em;box-sizing: border-box;padding-bottom: 0.4em;background-color: white;}#sk-container-id-1 div.sk-label label {font-family: monospace;font-weight: bold;display: inline-block;line-height: 1.2em;}#sk-container-id-1 div.sk-label-container {text-align: center;}#sk-container-id-1 div.sk-container {/* jupyter's `normalize.less` sets `[hidden] { display: none; }` but bootstrap.min.css set `[hidden] { display: none !important; }` so we also need the `!important` here to be able to override the default hidden behavior on the sphinx rendered scikit-learn.org. See: https://github.com/scikit-learn/scikit-learn/issues/21755 */display: inline-block !important;position: relative;}#sk-container-id-1 div.sk-text-repr-fallback {display: none;}</style><div id=\"sk-container-id-1\" class=\"sk-top-container\"><div class=\"sk-text-repr-fallback\"><pre>LinearSVC(C=1, dual=False, max_iter=10000, penalty=&#x27;l1&#x27;, random_state=0)</pre><b>In a Jupyter environment, please rerun this cell to show the HTML representation or trust the notebook. <br />On GitHub, the HTML representation is unable to render, please try loading this page with nbviewer.org.</b></div><div class=\"sk-container\" hidden><div class=\"sk-item\"><div class=\"sk-estimator sk-toggleable\"><input class=\"sk-toggleable__control sk-hidden--visually\" id=\"sk-estimator-id-1\" type=\"checkbox\" checked><label for=\"sk-estimator-id-1\" class=\"sk-toggleable__label sk-toggleable__label-arrow\">LinearSVC</label><div class=\"sk-toggleable__content\"><pre>LinearSVC(C=1, dual=False, max_iter=10000, penalty=&#x27;l1&#x27;, random_state=0)</pre></div></div></div></div></div>"
      ],
      "text/plain": [
       "LinearSVC(C=1, dual=False, max_iter=10000, penalty='l1', random_state=0)"
      ]
     },
     "execution_count": 11,
     "metadata": {},
     "output_type": "execute_result"
    }
   ],
   "source": [
    "# Grid search for Linear SVC\n",
    "\n",
    "model = LinearSVC(dual=False, max_iter=10000, penalty='l1', loss='squared_hinge', random_state=0)\n",
    "\n",
    "param_grid = {'C': [0.1, 1, 10, 100, 1000]}\n",
    "cv = RandomizedSearchCV(model, param_grid, random_state=0)\n",
    "search = cv.fit(x_train, y_train)\n",
    "search.best_estimator_"
   ]
  },
  {
   "cell_type": "code",
   "execution_count": 12,
   "id": "8c01f2c5-ba7f-4e40-b89e-d8888254760a",
   "metadata": {},
   "outputs": [
    {
     "data": {
      "text/plain": [
       "{'Train Score': 0.9386470896696382,\n",
       " 'Validation Score': 0.8951781970649895,\n",
       " 'Test Score': 0.589041095890411}"
      ]
     },
     "execution_count": 12,
     "metadata": {},
     "output_type": "execute_result"
    }
   ],
   "source": [
    "# Linear SVC with first hyperparameters\n",
    "\n",
    "scores = {}\n",
    "\n",
    "model = LinearSVC(dual=False, max_iter=10000, penalty='l1', loss='squared_hinge', C=1, random_state=0)\n",
    "model.fit(x_train, np.ravel(y_train))\n",
    "\n",
    "pred_train = model.predict(x_train)\n",
    "train_score = np.mean(pred_train == y_train)\n",
    "scores['Train Score'] = train_score\n",
    "\n",
    "pred_val = model.predict(x_val)\n",
    "val_score = np.mean(pred_val == y_val)\n",
    "scores['Validation Score'] = val_score\n",
    "\n",
    "pred_test = model.predict(x_test)\n",
    "test_score = np.mean(pred_test == y_test)\n",
    "scores['Test Score'] = test_score\n",
    "\n",
    "scores"
   ]
  },
  {
   "cell_type": "code",
   "execution_count": 13,
   "id": "5d6304a6-6d36-413b-ba60-3228a3a176e0",
   "metadata": {},
   "outputs": [
    {
     "name": "stderr",
     "output_type": "stream",
     "text": [
      "/opt/anaconda3/lib/python3.11/site-packages/sklearn/model_selection/_search.py:305: UserWarning: The total space of parameters 5 is smaller than n_iter=10. Running 5 iterations. For exhaustive searches, use GridSearchCV.\n",
      "  warnings.warn(\n",
      "/opt/anaconda3/lib/python3.11/site-packages/sklearn/svm/_base.py:1244: ConvergenceWarning: Liblinear failed to converge, increase the number of iterations.\n",
      "  warnings.warn(\n",
      "/opt/anaconda3/lib/python3.11/site-packages/sklearn/svm/_base.py:1244: ConvergenceWarning: Liblinear failed to converge, increase the number of iterations.\n",
      "  warnings.warn(\n",
      "/opt/anaconda3/lib/python3.11/site-packages/sklearn/svm/_base.py:1244: ConvergenceWarning: Liblinear failed to converge, increase the number of iterations.\n",
      "  warnings.warn(\n",
      "/opt/anaconda3/lib/python3.11/site-packages/sklearn/svm/_base.py:1244: ConvergenceWarning: Liblinear failed to converge, increase the number of iterations.\n",
      "  warnings.warn(\n",
      "/opt/anaconda3/lib/python3.11/site-packages/sklearn/svm/_base.py:1244: ConvergenceWarning: Liblinear failed to converge, increase the number of iterations.\n",
      "  warnings.warn(\n",
      "/opt/anaconda3/lib/python3.11/site-packages/sklearn/svm/_base.py:1244: ConvergenceWarning: Liblinear failed to converge, increase the number of iterations.\n",
      "  warnings.warn(\n",
      "/opt/anaconda3/lib/python3.11/site-packages/sklearn/svm/_base.py:1244: ConvergenceWarning: Liblinear failed to converge, increase the number of iterations.\n",
      "  warnings.warn(\n",
      "/opt/anaconda3/lib/python3.11/site-packages/sklearn/svm/_base.py:1244: ConvergenceWarning: Liblinear failed to converge, increase the number of iterations.\n",
      "  warnings.warn(\n",
      "/opt/anaconda3/lib/python3.11/site-packages/sklearn/svm/_base.py:1244: ConvergenceWarning: Liblinear failed to converge, increase the number of iterations.\n",
      "  warnings.warn(\n",
      "/opt/anaconda3/lib/python3.11/site-packages/sklearn/svm/_base.py:1244: ConvergenceWarning: Liblinear failed to converge, increase the number of iterations.\n",
      "  warnings.warn(\n",
      "/opt/anaconda3/lib/python3.11/site-packages/sklearn/svm/_base.py:1244: ConvergenceWarning: Liblinear failed to converge, increase the number of iterations.\n",
      "  warnings.warn(\n",
      "/opt/anaconda3/lib/python3.11/site-packages/sklearn/svm/_base.py:1244: ConvergenceWarning: Liblinear failed to converge, increase the number of iterations.\n",
      "  warnings.warn(\n",
      "/opt/anaconda3/lib/python3.11/site-packages/sklearn/svm/_base.py:1244: ConvergenceWarning: Liblinear failed to converge, increase the number of iterations.\n",
      "  warnings.warn(\n",
      "/opt/anaconda3/lib/python3.11/site-packages/sklearn/svm/_base.py:1244: ConvergenceWarning: Liblinear failed to converge, increase the number of iterations.\n",
      "  warnings.warn(\n",
      "/opt/anaconda3/lib/python3.11/site-packages/sklearn/svm/_base.py:1244: ConvergenceWarning: Liblinear failed to converge, increase the number of iterations.\n",
      "  warnings.warn(\n",
      "/opt/anaconda3/lib/python3.11/site-packages/sklearn/svm/_base.py:1244: ConvergenceWarning: Liblinear failed to converge, increase the number of iterations.\n",
      "  warnings.warn(\n",
      "/opt/anaconda3/lib/python3.11/site-packages/sklearn/svm/_base.py:1244: ConvergenceWarning: Liblinear failed to converge, increase the number of iterations.\n",
      "  warnings.warn(\n",
      "/opt/anaconda3/lib/python3.11/site-packages/sklearn/svm/_base.py:1244: ConvergenceWarning: Liblinear failed to converge, increase the number of iterations.\n",
      "  warnings.warn(\n",
      "/opt/anaconda3/lib/python3.11/site-packages/sklearn/svm/_base.py:1244: ConvergenceWarning: Liblinear failed to converge, increase the number of iterations.\n",
      "  warnings.warn(\n",
      "/opt/anaconda3/lib/python3.11/site-packages/sklearn/svm/_base.py:1244: ConvergenceWarning: Liblinear failed to converge, increase the number of iterations.\n",
      "  warnings.warn(\n",
      "/opt/anaconda3/lib/python3.11/site-packages/sklearn/svm/_base.py:1244: ConvergenceWarning: Liblinear failed to converge, increase the number of iterations.\n",
      "  warnings.warn(\n",
      "/opt/anaconda3/lib/python3.11/site-packages/sklearn/svm/_base.py:1244: ConvergenceWarning: Liblinear failed to converge, increase the number of iterations.\n",
      "  warnings.warn(\n",
      "/opt/anaconda3/lib/python3.11/site-packages/sklearn/svm/_base.py:1244: ConvergenceWarning: Liblinear failed to converge, increase the number of iterations.\n",
      "  warnings.warn(\n",
      "/opt/anaconda3/lib/python3.11/site-packages/sklearn/svm/_base.py:1244: ConvergenceWarning: Liblinear failed to converge, increase the number of iterations.\n",
      "  warnings.warn(\n",
      "/opt/anaconda3/lib/python3.11/site-packages/sklearn/svm/_base.py:1244: ConvergenceWarning: Liblinear failed to converge, increase the number of iterations.\n",
      "  warnings.warn(\n",
      "/opt/anaconda3/lib/python3.11/site-packages/sklearn/svm/_base.py:1244: ConvergenceWarning: Liblinear failed to converge, increase the number of iterations.\n",
      "  warnings.warn(\n"
     ]
    },
    {
     "data": {
      "text/html": [
       "<style>#sk-container-id-2 {color: black;background-color: white;}#sk-container-id-2 pre{padding: 0;}#sk-container-id-2 div.sk-toggleable {background-color: white;}#sk-container-id-2 label.sk-toggleable__label {cursor: pointer;display: block;width: 100%;margin-bottom: 0;padding: 0.3em;box-sizing: border-box;text-align: center;}#sk-container-id-2 label.sk-toggleable__label-arrow:before {content: \"▸\";float: left;margin-right: 0.25em;color: #696969;}#sk-container-id-2 label.sk-toggleable__label-arrow:hover:before {color: black;}#sk-container-id-2 div.sk-estimator:hover label.sk-toggleable__label-arrow:before {color: black;}#sk-container-id-2 div.sk-toggleable__content {max-height: 0;max-width: 0;overflow: hidden;text-align: left;background-color: #f0f8ff;}#sk-container-id-2 div.sk-toggleable__content pre {margin: 0.2em;color: black;border-radius: 0.25em;background-color: #f0f8ff;}#sk-container-id-2 input.sk-toggleable__control:checked~div.sk-toggleable__content {max-height: 200px;max-width: 100%;overflow: auto;}#sk-container-id-2 input.sk-toggleable__control:checked~label.sk-toggleable__label-arrow:before {content: \"▾\";}#sk-container-id-2 div.sk-estimator input.sk-toggleable__control:checked~label.sk-toggleable__label {background-color: #d4ebff;}#sk-container-id-2 div.sk-label input.sk-toggleable__control:checked~label.sk-toggleable__label {background-color: #d4ebff;}#sk-container-id-2 input.sk-hidden--visually {border: 0;clip: rect(1px 1px 1px 1px);clip: rect(1px, 1px, 1px, 1px);height: 1px;margin: -1px;overflow: hidden;padding: 0;position: absolute;width: 1px;}#sk-container-id-2 div.sk-estimator {font-family: monospace;background-color: #f0f8ff;border: 1px dotted black;border-radius: 0.25em;box-sizing: border-box;margin-bottom: 0.5em;}#sk-container-id-2 div.sk-estimator:hover {background-color: #d4ebff;}#sk-container-id-2 div.sk-parallel-item::after {content: \"\";width: 100%;border-bottom: 1px solid gray;flex-grow: 1;}#sk-container-id-2 div.sk-label:hover label.sk-toggleable__label {background-color: #d4ebff;}#sk-container-id-2 div.sk-serial::before {content: \"\";position: absolute;border-left: 1px solid gray;box-sizing: border-box;top: 0;bottom: 0;left: 50%;z-index: 0;}#sk-container-id-2 div.sk-serial {display: flex;flex-direction: column;align-items: center;background-color: white;padding-right: 0.2em;padding-left: 0.2em;position: relative;}#sk-container-id-2 div.sk-item {position: relative;z-index: 1;}#sk-container-id-2 div.sk-parallel {display: flex;align-items: stretch;justify-content: center;background-color: white;position: relative;}#sk-container-id-2 div.sk-item::before, #sk-container-id-2 div.sk-parallel-item::before {content: \"\";position: absolute;border-left: 1px solid gray;box-sizing: border-box;top: 0;bottom: 0;left: 50%;z-index: -1;}#sk-container-id-2 div.sk-parallel-item {display: flex;flex-direction: column;z-index: 1;position: relative;background-color: white;}#sk-container-id-2 div.sk-parallel-item:first-child::after {align-self: flex-end;width: 50%;}#sk-container-id-2 div.sk-parallel-item:last-child::after {align-self: flex-start;width: 50%;}#sk-container-id-2 div.sk-parallel-item:only-child::after {width: 0;}#sk-container-id-2 div.sk-dashed-wrapped {border: 1px dashed gray;margin: 0 0.4em 0.5em 0.4em;box-sizing: border-box;padding-bottom: 0.4em;background-color: white;}#sk-container-id-2 div.sk-label label {font-family: monospace;font-weight: bold;display: inline-block;line-height: 1.2em;}#sk-container-id-2 div.sk-label-container {text-align: center;}#sk-container-id-2 div.sk-container {/* jupyter's `normalize.less` sets `[hidden] { display: none; }` but bootstrap.min.css set `[hidden] { display: none !important; }` so we also need the `!important` here to be able to override the default hidden behavior on the sphinx rendered scikit-learn.org. See: https://github.com/scikit-learn/scikit-learn/issues/21755 */display: inline-block !important;position: relative;}#sk-container-id-2 div.sk-text-repr-fallback {display: none;}</style><div id=\"sk-container-id-2\" class=\"sk-top-container\"><div class=\"sk-text-repr-fallback\"><pre>LinearSVC(C=1, loss=&#x27;hinge&#x27;, max_iter=10000, random_state=0)</pre><b>In a Jupyter environment, please rerun this cell to show the HTML representation or trust the notebook. <br />On GitHub, the HTML representation is unable to render, please try loading this page with nbviewer.org.</b></div><div class=\"sk-container\" hidden><div class=\"sk-item\"><div class=\"sk-estimator sk-toggleable\"><input class=\"sk-toggleable__control sk-hidden--visually\" id=\"sk-estimator-id-2\" type=\"checkbox\" checked><label for=\"sk-estimator-id-2\" class=\"sk-toggleable__label sk-toggleable__label-arrow\">LinearSVC</label><div class=\"sk-toggleable__content\"><pre>LinearSVC(C=1, loss=&#x27;hinge&#x27;, max_iter=10000, random_state=0)</pre></div></div></div></div></div>"
      ],
      "text/plain": [
       "LinearSVC(C=1, loss='hinge', max_iter=10000, random_state=0)"
      ]
     },
     "execution_count": 13,
     "metadata": {},
     "output_type": "execute_result"
    }
   ],
   "source": [
    "# Grid search for dual SVC\n",
    "\n",
    "model = LinearSVC(dual=True, max_iter=10000, penalty='l2', loss='hinge', random_state=0)\n",
    "\n",
    "param_grid = {'C': [0.1, 1, 10, 100, 1000]}\n",
    "cv = RandomizedSearchCV(model, param_grid, random_state=0)\n",
    "search = cv.fit(x_train, y_train)\n",
    "search.best_estimator_"
   ]
  },
  {
   "cell_type": "code",
   "execution_count": 14,
   "id": "1f1731da-904d-45bc-8a11-9b201fb04003",
   "metadata": {},
   "outputs": [
    {
     "name": "stderr",
     "output_type": "stream",
     "text": [
      "/opt/anaconda3/lib/python3.11/site-packages/sklearn/svm/_base.py:1244: ConvergenceWarning: Liblinear failed to converge, increase the number of iterations.\n",
      "  warnings.warn(\n"
     ]
    },
    {
     "data": {
      "text/plain": [
       "{'Train Score': 0.9145254326166754,\n",
       " 'Validation Score': 0.8679245283018868,\n",
       " 'Test Score': 0.547945205479452}"
      ]
     },
     "execution_count": 14,
     "metadata": {},
     "output_type": "execute_result"
    }
   ],
   "source": [
    "# Dual Linear SVC with second hyperparameters\n",
    "# leave this out\n",
    "scores = {}\n",
    "\n",
    "model = LinearSVC(dual=True, max_iter=20000, penalty='l2', loss='hinge', C=1, random_state=0)\n",
    "model.fit(x_train, np.ravel(y_train))\n",
    "\n",
    "pred_train = model.predict(x_train)\n",
    "train_score = np.mean(pred_train == y_train)\n",
    "scores['Train Score'] = train_score\n",
    "\n",
    "pred_val = model.predict(x_val)\n",
    "val_score = np.mean(pred_val == y_val)\n",
    "scores['Validation Score'] = val_score\n",
    "\n",
    "pred_test = model.predict(x_test)\n",
    "test_score = np.mean(pred_test == y_test)\n",
    "scores['Test Score'] = test_score\n",
    "\n",
    "scores"
   ]
  },
  {
   "cell_type": "code",
   "execution_count": 15,
   "id": "41bb4783-4f43-42d6-a237-8cc710269c62",
   "metadata": {},
   "outputs": [
    {
     "name": "stderr",
     "output_type": "stream",
     "text": [
      "/opt/anaconda3/lib/python3.11/site-packages/sklearn/model_selection/_search.py:305: UserWarning: The total space of parameters 5 is smaller than n_iter=10. Running 5 iterations. For exhaustive searches, use GridSearchCV.\n",
      "  warnings.warn(\n",
      "/opt/anaconda3/lib/python3.11/site-packages/sklearn/svm/_base.py:1244: ConvergenceWarning: Liblinear failed to converge, increase the number of iterations.\n",
      "  warnings.warn(\n",
      "/opt/anaconda3/lib/python3.11/site-packages/sklearn/svm/_base.py:1244: ConvergenceWarning: Liblinear failed to converge, increase the number of iterations.\n",
      "  warnings.warn(\n",
      "/opt/anaconda3/lib/python3.11/site-packages/sklearn/svm/_base.py:1244: ConvergenceWarning: Liblinear failed to converge, increase the number of iterations.\n",
      "  warnings.warn(\n",
      "/opt/anaconda3/lib/python3.11/site-packages/sklearn/svm/_base.py:1244: ConvergenceWarning: Liblinear failed to converge, increase the number of iterations.\n",
      "  warnings.warn(\n",
      "/opt/anaconda3/lib/python3.11/site-packages/sklearn/svm/_base.py:1244: ConvergenceWarning: Liblinear failed to converge, increase the number of iterations.\n",
      "  warnings.warn(\n",
      "/opt/anaconda3/lib/python3.11/site-packages/sklearn/svm/_base.py:1244: ConvergenceWarning: Liblinear failed to converge, increase the number of iterations.\n",
      "  warnings.warn(\n",
      "/opt/anaconda3/lib/python3.11/site-packages/sklearn/svm/_base.py:1244: ConvergenceWarning: Liblinear failed to converge, increase the number of iterations.\n",
      "  warnings.warn(\n",
      "/opt/anaconda3/lib/python3.11/site-packages/sklearn/svm/_base.py:1244: ConvergenceWarning: Liblinear failed to converge, increase the number of iterations.\n",
      "  warnings.warn(\n",
      "/opt/anaconda3/lib/python3.11/site-packages/sklearn/svm/_base.py:1244: ConvergenceWarning: Liblinear failed to converge, increase the number of iterations.\n",
      "  warnings.warn(\n",
      "/opt/anaconda3/lib/python3.11/site-packages/sklearn/svm/_base.py:1244: ConvergenceWarning: Liblinear failed to converge, increase the number of iterations.\n",
      "  warnings.warn(\n",
      "/opt/anaconda3/lib/python3.11/site-packages/sklearn/svm/_base.py:1244: ConvergenceWarning: Liblinear failed to converge, increase the number of iterations.\n",
      "  warnings.warn(\n",
      "/opt/anaconda3/lib/python3.11/site-packages/sklearn/svm/_base.py:1244: ConvergenceWarning: Liblinear failed to converge, increase the number of iterations.\n",
      "  warnings.warn(\n",
      "/opt/anaconda3/lib/python3.11/site-packages/sklearn/svm/_base.py:1244: ConvergenceWarning: Liblinear failed to converge, increase the number of iterations.\n",
      "  warnings.warn(\n",
      "/opt/anaconda3/lib/python3.11/site-packages/sklearn/svm/_base.py:1244: ConvergenceWarning: Liblinear failed to converge, increase the number of iterations.\n",
      "  warnings.warn(\n",
      "/opt/anaconda3/lib/python3.11/site-packages/sklearn/svm/_base.py:1244: ConvergenceWarning: Liblinear failed to converge, increase the number of iterations.\n",
      "  warnings.warn(\n"
     ]
    },
    {
     "data": {
      "text/html": [
       "<style>#sk-container-id-3 {color: black;background-color: white;}#sk-container-id-3 pre{padding: 0;}#sk-container-id-3 div.sk-toggleable {background-color: white;}#sk-container-id-3 label.sk-toggleable__label {cursor: pointer;display: block;width: 100%;margin-bottom: 0;padding: 0.3em;box-sizing: border-box;text-align: center;}#sk-container-id-3 label.sk-toggleable__label-arrow:before {content: \"▸\";float: left;margin-right: 0.25em;color: #696969;}#sk-container-id-3 label.sk-toggleable__label-arrow:hover:before {color: black;}#sk-container-id-3 div.sk-estimator:hover label.sk-toggleable__label-arrow:before {color: black;}#sk-container-id-3 div.sk-toggleable__content {max-height: 0;max-width: 0;overflow: hidden;text-align: left;background-color: #f0f8ff;}#sk-container-id-3 div.sk-toggleable__content pre {margin: 0.2em;color: black;border-radius: 0.25em;background-color: #f0f8ff;}#sk-container-id-3 input.sk-toggleable__control:checked~div.sk-toggleable__content {max-height: 200px;max-width: 100%;overflow: auto;}#sk-container-id-3 input.sk-toggleable__control:checked~label.sk-toggleable__label-arrow:before {content: \"▾\";}#sk-container-id-3 div.sk-estimator input.sk-toggleable__control:checked~label.sk-toggleable__label {background-color: #d4ebff;}#sk-container-id-3 div.sk-label input.sk-toggleable__control:checked~label.sk-toggleable__label {background-color: #d4ebff;}#sk-container-id-3 input.sk-hidden--visually {border: 0;clip: rect(1px 1px 1px 1px);clip: rect(1px, 1px, 1px, 1px);height: 1px;margin: -1px;overflow: hidden;padding: 0;position: absolute;width: 1px;}#sk-container-id-3 div.sk-estimator {font-family: monospace;background-color: #f0f8ff;border: 1px dotted black;border-radius: 0.25em;box-sizing: border-box;margin-bottom: 0.5em;}#sk-container-id-3 div.sk-estimator:hover {background-color: #d4ebff;}#sk-container-id-3 div.sk-parallel-item::after {content: \"\";width: 100%;border-bottom: 1px solid gray;flex-grow: 1;}#sk-container-id-3 div.sk-label:hover label.sk-toggleable__label {background-color: #d4ebff;}#sk-container-id-3 div.sk-serial::before {content: \"\";position: absolute;border-left: 1px solid gray;box-sizing: border-box;top: 0;bottom: 0;left: 50%;z-index: 0;}#sk-container-id-3 div.sk-serial {display: flex;flex-direction: column;align-items: center;background-color: white;padding-right: 0.2em;padding-left: 0.2em;position: relative;}#sk-container-id-3 div.sk-item {position: relative;z-index: 1;}#sk-container-id-3 div.sk-parallel {display: flex;align-items: stretch;justify-content: center;background-color: white;position: relative;}#sk-container-id-3 div.sk-item::before, #sk-container-id-3 div.sk-parallel-item::before {content: \"\";position: absolute;border-left: 1px solid gray;box-sizing: border-box;top: 0;bottom: 0;left: 50%;z-index: -1;}#sk-container-id-3 div.sk-parallel-item {display: flex;flex-direction: column;z-index: 1;position: relative;background-color: white;}#sk-container-id-3 div.sk-parallel-item:first-child::after {align-self: flex-end;width: 50%;}#sk-container-id-3 div.sk-parallel-item:last-child::after {align-self: flex-start;width: 50%;}#sk-container-id-3 div.sk-parallel-item:only-child::after {width: 0;}#sk-container-id-3 div.sk-dashed-wrapped {border: 1px dashed gray;margin: 0 0.4em 0.5em 0.4em;box-sizing: border-box;padding-bottom: 0.4em;background-color: white;}#sk-container-id-3 div.sk-label label {font-family: monospace;font-weight: bold;display: inline-block;line-height: 1.2em;}#sk-container-id-3 div.sk-label-container {text-align: center;}#sk-container-id-3 div.sk-container {/* jupyter's `normalize.less` sets `[hidden] { display: none; }` but bootstrap.min.css set `[hidden] { display: none !important; }` so we also need the `!important` here to be able to override the default hidden behavior on the sphinx rendered scikit-learn.org. See: https://github.com/scikit-learn/scikit-learn/issues/21755 */display: inline-block !important;position: relative;}#sk-container-id-3 div.sk-text-repr-fallback {display: none;}</style><div id=\"sk-container-id-3\" class=\"sk-top-container\"><div class=\"sk-text-repr-fallback\"><pre>LinearSVC(C=1, dual=False, max_iter=10000, penalty=&#x27;l1&#x27;, random_state=0)</pre><b>In a Jupyter environment, please rerun this cell to show the HTML representation or trust the notebook. <br />On GitHub, the HTML representation is unable to render, please try loading this page with nbviewer.org.</b></div><div class=\"sk-container\" hidden><div class=\"sk-item\"><div class=\"sk-estimator sk-toggleable\"><input class=\"sk-toggleable__control sk-hidden--visually\" id=\"sk-estimator-id-3\" type=\"checkbox\" checked><label for=\"sk-estimator-id-3\" class=\"sk-toggleable__label sk-toggleable__label-arrow\">LinearSVC</label><div class=\"sk-toggleable__content\"><pre>LinearSVC(C=1, dual=False, max_iter=10000, penalty=&#x27;l1&#x27;, random_state=0)</pre></div></div></div></div></div>"
      ],
      "text/plain": [
       "LinearSVC(C=1, dual=False, max_iter=10000, penalty='l1', random_state=0)"
      ]
     },
     "execution_count": 15,
     "metadata": {},
     "output_type": "execute_result"
    }
   ],
   "source": [
    "# Grid search for Linear SVC on scaled data\n",
    "# results are the same as on unscaled data\n",
    "\n",
    "model = LinearSVC(dual=False, max_iter=10000, penalty='l1', loss='squared_hinge', random_state=0)\n",
    "\n",
    "param_grid = {'C': [0.1, 1, 10, 100, 1000]}\n",
    "cv = RandomizedSearchCV(model, param_grid, random_state=0)\n",
    "search = cv.fit(x_train_sc, y_train)\n",
    "search.best_estimator_"
   ]
  },
  {
   "cell_type": "code",
   "execution_count": 16,
   "id": "53012398-f028-4d7e-bc93-c43986df698b",
   "metadata": {},
   "outputs": [
    {
     "data": {
      "text/plain": [
       "{'Train Score': 0.9428421604614577,\n",
       " 'Validation Score': 0.8805031446540881,\n",
       " 'Test Score': 0.5616438356164384}"
      ]
     },
     "execution_count": 16,
     "metadata": {},
     "output_type": "execute_result"
    }
   ],
   "source": [
    "# Linear SVC with first hyperparameters on scaled data\n",
    "\n",
    "scores = {}\n",
    "\n",
    "model = LinearSVC(dual=False, max_iter=10000, penalty='l1', loss='squared_hinge', C=1, random_state=0)\n",
    "model.fit(x_train_sc, np.ravel(y_train))\n",
    "\n",
    "pred_train = model.predict(x_train_sc)\n",
    "train_score = np.mean(pred_train == y_train)\n",
    "scores['Train Score'] = train_score\n",
    "\n",
    "pred_val = model.predict(x_val_sc)\n",
    "val_score = np.mean(pred_val == y_val)\n",
    "scores['Validation Score'] = val_score\n",
    "\n",
    "pred_test = model.predict(x_test_sc)\n",
    "test_score = np.mean(pred_test == y_test)\n",
    "scores['Test Score'] = test_score\n",
    "\n",
    "scores"
   ]
  },
  {
   "cell_type": "code",
   "execution_count": 17,
   "id": "a30ace64-bf56-4d23-9e70-67e0a8f8deac",
   "metadata": {},
   "outputs": [
    {
     "name": "stderr",
     "output_type": "stream",
     "text": [
      "/opt/anaconda3/lib/python3.11/site-packages/sklearn/svm/_base.py:1244: ConvergenceWarning: Liblinear failed to converge, increase the number of iterations.\n",
      "  warnings.warn(\n"
     ]
    },
    {
     "data": {
      "text/plain": [
       "{'Train Score': 0.9197692711064499,\n",
       " 'Validation Score': 0.8490566037735849,\n",
       " 'Test Score': 0.5342465753424658}"
      ]
     },
     "execution_count": 17,
     "metadata": {},
     "output_type": "execute_result"
    }
   ],
   "source": [
    "# Dual Linear SVC with second hyperparameters on scaled data\n",
    "\n",
    "scores = {}\n",
    "\n",
    "model = LinearSVC(dual=True, max_iter=20000, penalty='l2', loss='hinge', C=1, random_state=0)\n",
    "model.fit(x_train_sc, np.ravel(y_train))\n",
    "\n",
    "pred_train = model.predict(x_train_sc)\n",
    "train_score = np.mean(pred_train == y_train)\n",
    "scores['Train Score'] = train_score\n",
    "\n",
    "pred_val = model.predict(x_val_sc)\n",
    "val_score = np.mean(pred_val == y_val)\n",
    "scores['Validation Score'] = val_score\n",
    "\n",
    "pred_test = model.predict(x_test_sc)\n",
    "test_score = np.mean(pred_test == y_test)\n",
    "scores['Test Score'] = test_score\n",
    "\n",
    "scores"
   ]
  },
  {
   "cell_type": "code",
   "execution_count": 18,
   "id": "440b1e5a-2eed-4df4-bc42-5f6ee6b0b0e4",
   "metadata": {},
   "outputs": [
    {
     "data": {
      "text/plain": [
       "{'Train Score': 0.7996853696906135,\n",
       " 'Validation Score': 0.7693920335429769,\n",
       " 'Test Score': 0.4315068493150685}"
      ]
     },
     "execution_count": 18,
     "metadata": {},
     "output_type": "execute_result"
    }
   ],
   "source": [
    "# SVC with no hyperparameter tuning\n",
    "\n",
    "scores = {}\n",
    "\n",
    "model = SVC(random_state=0)\n",
    "model.fit(x_train, np.ravel(y_train))\n",
    "\n",
    "pred_train = model.predict(x_train)\n",
    "train_score = np.mean(pred_train == y_train)\n",
    "scores['Train Score'] = train_score\n",
    "\n",
    "pred_val = model.predict(x_val)\n",
    "val_score = np.mean(pred_val == y_val)\n",
    "scores['Validation Score'] = val_score\n",
    "\n",
    "pred_test = model.predict(x_test)\n",
    "test_score = np.mean(pred_test == y_test)\n",
    "scores['Test Score'] = test_score\n",
    "\n",
    "scores"
   ]
  },
  {
   "cell_type": "code",
   "execution_count": 19,
   "id": "cf93c6ef-6aa9-4845-98a7-cb047d51792c",
   "metadata": {},
   "outputs": [
    {
     "data": {
      "text/plain": [
       "{'Train Score': 0.9900367068694285,\n",
       " 'Validation Score': 0.9035639412997903,\n",
       " 'Test Score': 0.4520547945205479}"
      ]
     },
     "execution_count": 19,
     "metadata": {},
     "output_type": "execute_result"
    }
   ],
   "source": [
    "# SVC with no hyperparameter tuning scaled data\n",
    "\n",
    "scores = {}\n",
    "\n",
    "model = SVC(random_state=0)\n",
    "model.fit(x_train_sc, np.ravel(y_train))\n",
    "\n",
    "pred_train = model.predict(x_train_sc)\n",
    "train_score = np.mean(pred_train == y_train)\n",
    "scores['Train Score'] = train_score\n",
    "\n",
    "pred_val = model.predict(x_val_sc)\n",
    "val_score = np.mean(pred_val == y_val)\n",
    "scores['Validation Score'] = val_score\n",
    "\n",
    "pred_test = model.predict(x_test_sc)\n",
    "test_score = np.mean(pred_test == y_test)\n",
    "scores['Test Score'] = test_score\n",
    "\n",
    "scores"
   ]
  },
  {
   "cell_type": "code",
   "execution_count": 20,
   "id": "6adc3dcf-46c0-4a0d-8823-c9e662145fa9",
   "metadata": {},
   "outputs": [
    {
     "data": {
      "text/html": [
       "<style>#sk-container-id-4 {color: black;background-color: white;}#sk-container-id-4 pre{padding: 0;}#sk-container-id-4 div.sk-toggleable {background-color: white;}#sk-container-id-4 label.sk-toggleable__label {cursor: pointer;display: block;width: 100%;margin-bottom: 0;padding: 0.3em;box-sizing: border-box;text-align: center;}#sk-container-id-4 label.sk-toggleable__label-arrow:before {content: \"▸\";float: left;margin-right: 0.25em;color: #696969;}#sk-container-id-4 label.sk-toggleable__label-arrow:hover:before {color: black;}#sk-container-id-4 div.sk-estimator:hover label.sk-toggleable__label-arrow:before {color: black;}#sk-container-id-4 div.sk-toggleable__content {max-height: 0;max-width: 0;overflow: hidden;text-align: left;background-color: #f0f8ff;}#sk-container-id-4 div.sk-toggleable__content pre {margin: 0.2em;color: black;border-radius: 0.25em;background-color: #f0f8ff;}#sk-container-id-4 input.sk-toggleable__control:checked~div.sk-toggleable__content {max-height: 200px;max-width: 100%;overflow: auto;}#sk-container-id-4 input.sk-toggleable__control:checked~label.sk-toggleable__label-arrow:before {content: \"▾\";}#sk-container-id-4 div.sk-estimator input.sk-toggleable__control:checked~label.sk-toggleable__label {background-color: #d4ebff;}#sk-container-id-4 div.sk-label input.sk-toggleable__control:checked~label.sk-toggleable__label {background-color: #d4ebff;}#sk-container-id-4 input.sk-hidden--visually {border: 0;clip: rect(1px 1px 1px 1px);clip: rect(1px, 1px, 1px, 1px);height: 1px;margin: -1px;overflow: hidden;padding: 0;position: absolute;width: 1px;}#sk-container-id-4 div.sk-estimator {font-family: monospace;background-color: #f0f8ff;border: 1px dotted black;border-radius: 0.25em;box-sizing: border-box;margin-bottom: 0.5em;}#sk-container-id-4 div.sk-estimator:hover {background-color: #d4ebff;}#sk-container-id-4 div.sk-parallel-item::after {content: \"\";width: 100%;border-bottom: 1px solid gray;flex-grow: 1;}#sk-container-id-4 div.sk-label:hover label.sk-toggleable__label {background-color: #d4ebff;}#sk-container-id-4 div.sk-serial::before {content: \"\";position: absolute;border-left: 1px solid gray;box-sizing: border-box;top: 0;bottom: 0;left: 50%;z-index: 0;}#sk-container-id-4 div.sk-serial {display: flex;flex-direction: column;align-items: center;background-color: white;padding-right: 0.2em;padding-left: 0.2em;position: relative;}#sk-container-id-4 div.sk-item {position: relative;z-index: 1;}#sk-container-id-4 div.sk-parallel {display: flex;align-items: stretch;justify-content: center;background-color: white;position: relative;}#sk-container-id-4 div.sk-item::before, #sk-container-id-4 div.sk-parallel-item::before {content: \"\";position: absolute;border-left: 1px solid gray;box-sizing: border-box;top: 0;bottom: 0;left: 50%;z-index: -1;}#sk-container-id-4 div.sk-parallel-item {display: flex;flex-direction: column;z-index: 1;position: relative;background-color: white;}#sk-container-id-4 div.sk-parallel-item:first-child::after {align-self: flex-end;width: 50%;}#sk-container-id-4 div.sk-parallel-item:last-child::after {align-self: flex-start;width: 50%;}#sk-container-id-4 div.sk-parallel-item:only-child::after {width: 0;}#sk-container-id-4 div.sk-dashed-wrapped {border: 1px dashed gray;margin: 0 0.4em 0.5em 0.4em;box-sizing: border-box;padding-bottom: 0.4em;background-color: white;}#sk-container-id-4 div.sk-label label {font-family: monospace;font-weight: bold;display: inline-block;line-height: 1.2em;}#sk-container-id-4 div.sk-label-container {text-align: center;}#sk-container-id-4 div.sk-container {/* jupyter's `normalize.less` sets `[hidden] { display: none; }` but bootstrap.min.css set `[hidden] { display: none !important; }` so we also need the `!important` here to be able to override the default hidden behavior on the sphinx rendered scikit-learn.org. See: https://github.com/scikit-learn/scikit-learn/issues/21755 */display: inline-block !important;position: relative;}#sk-container-id-4 div.sk-text-repr-fallback {display: none;}</style><div id=\"sk-container-id-4\" class=\"sk-top-container\"><div class=\"sk-text-repr-fallback\"><pre>SVC(C=1000, gamma=0.01, random_state=0)</pre><b>In a Jupyter environment, please rerun this cell to show the HTML representation or trust the notebook. <br />On GitHub, the HTML representation is unable to render, please try loading this page with nbviewer.org.</b></div><div class=\"sk-container\" hidden><div class=\"sk-item\"><div class=\"sk-estimator sk-toggleable\"><input class=\"sk-toggleable__control sk-hidden--visually\" id=\"sk-estimator-id-4\" type=\"checkbox\" checked><label for=\"sk-estimator-id-4\" class=\"sk-toggleable__label sk-toggleable__label-arrow\">SVC</label><div class=\"sk-toggleable__content\"><pre>SVC(C=1000, gamma=0.01, random_state=0)</pre></div></div></div></div></div>"
      ],
      "text/plain": [
       "SVC(C=1000, gamma=0.01, random_state=0)"
      ]
     },
     "execution_count": 20,
     "metadata": {},
     "output_type": "execute_result"
    }
   ],
   "source": [
    "# Grid search for SVC\n",
    "\n",
    "model = SVC(random_state=0)\n",
    "\n",
    "param_grid = {'C': [0.1, 1, 10, 100, 1000],  \n",
    "              'gamma': [1, 0.1, 0.01, 0.001, 0.0001], \n",
    "              'kernel': ['rbf']}\n",
    "cv = RandomizedSearchCV(model, param_grid, random_state=0)\n",
    "search = cv.fit(x_train, y_train)\n",
    "search.best_estimator_"
   ]
  },
  {
   "cell_type": "code",
   "execution_count": 21,
   "id": "7d8cbe00-ffe3-403f-ac4d-a65a0b63933d",
   "metadata": {},
   "outputs": [
    {
     "data": {
      "text/plain": [
       "{'Train Score': 0.9318300996329313,\n",
       " 'Validation Score': 0.9245283018867925,\n",
       " 'Test Score': 0.5958904109589042}"
      ]
     },
     "execution_count": 21,
     "metadata": {},
     "output_type": "execute_result"
    }
   ],
   "source": [
    "# SVC with hyperparameter tuning\n",
    "\n",
    "scores = {}\n",
    "\n",
    "model = SVC(C=100, gamma=0.0001, random_state=0)\n",
    "model.fit(x_train, np.ravel(y_train))\n",
    "\n",
    "pred_train = model.predict(x_train)\n",
    "train_score = np.mean(pred_train == y_train)\n",
    "scores['Train Score'] = train_score\n",
    "\n",
    "pred_val = model.predict(x_val)\n",
    "val_score = np.mean(pred_val == y_val)\n",
    "scores['Validation Score'] = val_score\n",
    "\n",
    "pred_test = model.predict(x_test)\n",
    "test_score = np.mean(pred_test == y_test)\n",
    "scores['Test Score'] = test_score\n",
    "\n",
    "scores"
   ]
  },
  {
   "cell_type": "code",
   "execution_count": 22,
   "id": "1564234e-849e-4a11-a880-463defb67af7",
   "metadata": {},
   "outputs": [
    {
     "data": {
      "text/html": [
       "<style>#sk-container-id-5 {color: black;background-color: white;}#sk-container-id-5 pre{padding: 0;}#sk-container-id-5 div.sk-toggleable {background-color: white;}#sk-container-id-5 label.sk-toggleable__label {cursor: pointer;display: block;width: 100%;margin-bottom: 0;padding: 0.3em;box-sizing: border-box;text-align: center;}#sk-container-id-5 label.sk-toggleable__label-arrow:before {content: \"▸\";float: left;margin-right: 0.25em;color: #696969;}#sk-container-id-5 label.sk-toggleable__label-arrow:hover:before {color: black;}#sk-container-id-5 div.sk-estimator:hover label.sk-toggleable__label-arrow:before {color: black;}#sk-container-id-5 div.sk-toggleable__content {max-height: 0;max-width: 0;overflow: hidden;text-align: left;background-color: #f0f8ff;}#sk-container-id-5 div.sk-toggleable__content pre {margin: 0.2em;color: black;border-radius: 0.25em;background-color: #f0f8ff;}#sk-container-id-5 input.sk-toggleable__control:checked~div.sk-toggleable__content {max-height: 200px;max-width: 100%;overflow: auto;}#sk-container-id-5 input.sk-toggleable__control:checked~label.sk-toggleable__label-arrow:before {content: \"▾\";}#sk-container-id-5 div.sk-estimator input.sk-toggleable__control:checked~label.sk-toggleable__label {background-color: #d4ebff;}#sk-container-id-5 div.sk-label input.sk-toggleable__control:checked~label.sk-toggleable__label {background-color: #d4ebff;}#sk-container-id-5 input.sk-hidden--visually {border: 0;clip: rect(1px 1px 1px 1px);clip: rect(1px, 1px, 1px, 1px);height: 1px;margin: -1px;overflow: hidden;padding: 0;position: absolute;width: 1px;}#sk-container-id-5 div.sk-estimator {font-family: monospace;background-color: #f0f8ff;border: 1px dotted black;border-radius: 0.25em;box-sizing: border-box;margin-bottom: 0.5em;}#sk-container-id-5 div.sk-estimator:hover {background-color: #d4ebff;}#sk-container-id-5 div.sk-parallel-item::after {content: \"\";width: 100%;border-bottom: 1px solid gray;flex-grow: 1;}#sk-container-id-5 div.sk-label:hover label.sk-toggleable__label {background-color: #d4ebff;}#sk-container-id-5 div.sk-serial::before {content: \"\";position: absolute;border-left: 1px solid gray;box-sizing: border-box;top: 0;bottom: 0;left: 50%;z-index: 0;}#sk-container-id-5 div.sk-serial {display: flex;flex-direction: column;align-items: center;background-color: white;padding-right: 0.2em;padding-left: 0.2em;position: relative;}#sk-container-id-5 div.sk-item {position: relative;z-index: 1;}#sk-container-id-5 div.sk-parallel {display: flex;align-items: stretch;justify-content: center;background-color: white;position: relative;}#sk-container-id-5 div.sk-item::before, #sk-container-id-5 div.sk-parallel-item::before {content: \"\";position: absolute;border-left: 1px solid gray;box-sizing: border-box;top: 0;bottom: 0;left: 50%;z-index: -1;}#sk-container-id-5 div.sk-parallel-item {display: flex;flex-direction: column;z-index: 1;position: relative;background-color: white;}#sk-container-id-5 div.sk-parallel-item:first-child::after {align-self: flex-end;width: 50%;}#sk-container-id-5 div.sk-parallel-item:last-child::after {align-self: flex-start;width: 50%;}#sk-container-id-5 div.sk-parallel-item:only-child::after {width: 0;}#sk-container-id-5 div.sk-dashed-wrapped {border: 1px dashed gray;margin: 0 0.4em 0.5em 0.4em;box-sizing: border-box;padding-bottom: 0.4em;background-color: white;}#sk-container-id-5 div.sk-label label {font-family: monospace;font-weight: bold;display: inline-block;line-height: 1.2em;}#sk-container-id-5 div.sk-label-container {text-align: center;}#sk-container-id-5 div.sk-container {/* jupyter's `normalize.less` sets `[hidden] { display: none; }` but bootstrap.min.css set `[hidden] { display: none !important; }` so we also need the `!important` here to be able to override the default hidden behavior on the sphinx rendered scikit-learn.org. See: https://github.com/scikit-learn/scikit-learn/issues/21755 */display: inline-block !important;position: relative;}#sk-container-id-5 div.sk-text-repr-fallback {display: none;}</style><div id=\"sk-container-id-5\" class=\"sk-top-container\"><div class=\"sk-text-repr-fallback\"><pre>SVC(C=10, gamma=0.1, kernel=&#x27;poly&#x27;)</pre><b>In a Jupyter environment, please rerun this cell to show the HTML representation or trust the notebook. <br />On GitHub, the HTML representation is unable to render, please try loading this page with nbviewer.org.</b></div><div class=\"sk-container\" hidden><div class=\"sk-item\"><div class=\"sk-estimator sk-toggleable\"><input class=\"sk-toggleable__control sk-hidden--visually\" id=\"sk-estimator-id-5\" type=\"checkbox\" checked><label for=\"sk-estimator-id-5\" class=\"sk-toggleable__label sk-toggleable__label-arrow\">SVC</label><div class=\"sk-toggleable__content\"><pre>SVC(C=10, gamma=0.1, kernel=&#x27;poly&#x27;)</pre></div></div></div></div></div>"
      ],
      "text/plain": [
       "SVC(C=10, gamma=0.1, kernel='poly')"
      ]
     },
     "execution_count": 22,
     "metadata": {},
     "output_type": "execute_result"
    }
   ],
   "source": [
    "# Grid search for SVC on scaled data\n",
    "\n",
    "model = SVC()\n",
    "\n",
    "param_grid = {'C': [0.1, 1, 10, 100, 1000],  \n",
    "              'gamma': [1, 0.1, 0.01, 0.001, 0.0001], \n",
    "              'kernel': ['linear', 'poly', 'rbf']}\n",
    "cv = RandomizedSearchCV(model, param_grid, random_state=0, cv=5)\n",
    "search = cv.fit(x_train_sc, y_train)\n",
    "search.best_estimator_"
   ]
  },
  {
   "cell_type": "code",
   "execution_count": 23,
   "id": "b67af50c-ff66-460a-843b-8bbad949143e",
   "metadata": {},
   "outputs": [
    {
     "data": {
      "text/plain": [
       "{'Train Score': 1.0,\n",
       " 'Validation Score': 0.9245283018867925,\n",
       " 'Test Score': 0.4520547945205479}"
      ]
     },
     "execution_count": 23,
     "metadata": {},
     "output_type": "execute_result"
    }
   ],
   "source": [
    "# SVC with hyperparameter tuning scaled data\n",
    "\n",
    "scores = {}\n",
    "\n",
    "model = SVC(C=100, gamma=0.1, kernel='poly', random_state=0)\n",
    "model.fit(x_train_sc, np.ravel(y_train))\n",
    "\n",
    "pred_train = model.predict(x_train_sc)\n",
    "train_score = np.mean(pred_train == y_train)\n",
    "scores['Train Score'] = train_score\n",
    "\n",
    "pred_val = model.predict(x_val_sc)\n",
    "val_score = np.mean(pred_val == y_val)\n",
    "scores['Validation Score'] = val_score\n",
    "\n",
    "pred_test = model.predict(x_test_sc)\n",
    "test_score = np.mean(pred_test == y_test)\n",
    "scores['Test Score'] = test_score\n",
    "\n",
    "scores"
   ]
  },
  {
   "cell_type": "code",
   "execution_count": 24,
   "id": "bdca5af5-0158-4e00-8e41-dbcf48acc856",
   "metadata": {},
   "outputs": [
    {
     "data": {
      "text/plain": [
       "{'Train Score': 0.9984268484530676,\n",
       " 'Validation Score': 0.9182389937106918,\n",
       " 'Test Score': 0.5342465753424658}"
      ]
     },
     "execution_count": 24,
     "metadata": {},
     "output_type": "execute_result"
    }
   ],
   "source": [
    "# SVC with hyperparameter tuning scaled data\n",
    "# using linear kernel has a better result on the test set, \n",
    "# even though it is not the chosen hyperparameter.\n",
    "# Also notice that the validation score is lower here.\n",
    "\n",
    "scores = {}\n",
    "\n",
    "model = SVC(C=10, gamma=0.1, kernel='linear', random_state=0)\n",
    "model.fit(x_train_sc, np.ravel(y_train))\n",
    "\n",
    "pred_train = model.predict(x_train_sc)\n",
    "train_score = np.mean(pred_train == y_train)\n",
    "scores['Train Score'] = train_score\n",
    "\n",
    "pred_val = model.predict(x_val_sc)\n",
    "val_score = np.mean(pred_val == y_val)\n",
    "scores['Validation Score'] = val_score\n",
    "\n",
    "pred_test = model.predict(x_test_sc)\n",
    "test_score = np.mean(pred_test == y_test)\n",
    "scores['Test Score'] = test_score\n",
    "\n",
    "scores"
   ]
  },
  {
   "cell_type": "code",
   "execution_count": 25,
   "id": "96064533-c0e6-4479-9be9-183037c1485a",
   "metadata": {},
   "outputs": [
    {
     "data": {
      "text/plain": [
       "{'Train Score': 0.9947561615102255,\n",
       " 'Validation Score': 0.9161425576519916,\n",
       " 'Test Score': 0.5342465753424658}"
      ]
     },
     "execution_count": 25,
     "metadata": {},
     "output_type": "execute_result"
    }
   ],
   "source": [
    "# Linear SVC one vs rest\n",
    "\n",
    "scores = {}\n",
    "\n",
    "model = SVC(kernel='linear', decision_function_shape='ovr', random_state=0)\n",
    "model.fit(x_train_sc, np.ravel(y_train))\n",
    "\n",
    "pred_train = model.predict(x_train_sc)\n",
    "train_score = np.mean(pred_train == y_train)\n",
    "scores['Train Score'] = train_score\n",
    "\n",
    "pred_val = model.predict(x_val_sc)\n",
    "val_score = np.mean(pred_val == y_val)\n",
    "scores['Validation Score'] = val_score\n",
    "\n",
    "pred_test = model.predict(x_test_sc)\n",
    "test_score = np.mean(pred_test == y_test)\n",
    "scores['Test Score'] = test_score\n",
    "\n",
    "scores"
   ]
  },
  {
   "cell_type": "code",
   "execution_count": 26,
   "id": "a1689369-538b-4151-bdcc-9744d2782b4f",
   "metadata": {},
   "outputs": [
    {
     "data": {
      "text/plain": [
       "{'Train Score': 0.9664394336654432,\n",
       " 'Validation Score': 0.9245283018867925,\n",
       " 'Test Score': 0.5342465753424658}"
      ]
     },
     "execution_count": 26,
     "metadata": {},
     "output_type": "execute_result"
    }
   ],
   "source": [
    "# Linear SVC one vs one\n",
    "\n",
    "scores = {}\n",
    "\n",
    "model = SVC(C=0.1, kernel='linear', decision_function_shape='ovo', random_state=0)\n",
    "model.fit(x_train_sc, np.ravel(y_train))\n",
    "\n",
    "pred_train = model.predict(x_train_sc)\n",
    "train_score = np.mean(pred_train == y_train)\n",
    "scores['Train Score'] = train_score\n",
    "\n",
    "pred_val = model.predict(x_val_sc)\n",
    "val_score = np.mean(pred_val == y_val)\n",
    "scores['Validation Score'] = val_score\n",
    "\n",
    "pred_test = model.predict(x_test_sc)\n",
    "test_score = np.mean(pred_test == y_test)\n",
    "scores['Test Score'] = test_score\n",
    "\n",
    "scores"
   ]
  },
  {
   "cell_type": "code",
   "execution_count": 27,
   "id": "a721e686-8f20-48a4-bfde-c11c5ca59661",
   "metadata": {},
   "outputs": [
    {
     "data": {
      "text/plain": [
       "{'Train Score': 0.9701101206082853,\n",
       " 'Validation Score': 0.8972746331236897,\n",
       " 'Test Score': 0.589041095890411}"
      ]
     },
     "execution_count": 27,
     "metadata": {},
     "output_type": "execute_result"
    }
   ],
   "source": [
    "# Logistic on scaled data\n",
    "\n",
    "scores = {}\n",
    "\n",
    "model = LogisticRegression(penalty='l2', C=1, multi_class='multinomial', max_iter=10000, random_state=0)\n",
    "model.fit(x_train_sc, np.ravel(y_train))\n",
    "\n",
    "pred_train = model.predict(x_train_sc)\n",
    "train_score = np.mean(pred_train == y_train)\n",
    "scores['Train Score'] = train_score\n",
    "\n",
    "pred_val = model.predict(x_val_sc)\n",
    "val_score = np.mean(pred_val == y_val)\n",
    "scores['Validation Score'] = val_score\n",
    "\n",
    "pred_test = model.predict(x_test_sc)\n",
    "test_score = np.mean(pred_test == y_test)\n",
    "scores['Test Score'] = test_score\n",
    "\n",
    "scores"
   ]
  },
  {
   "cell_type": "code",
   "execution_count": 28,
   "id": "df66409c-f809-4c13-b3ff-a114aa86be1d",
   "metadata": {},
   "outputs": [
    {
     "data": {
      "text/plain": [
       "{'Train Score': 0.9643418982695333,\n",
       " 'Validation Score': 0.9056603773584906,\n",
       " 'Test Score': 0.6027397260273972}"
      ]
     },
     "execution_count": 28,
     "metadata": {},
     "output_type": "execute_result"
    }
   ],
   "source": [
    "# Logistic on unscaled data\n",
    "\n",
    "scores = {}\n",
    "\n",
    "model = LogisticRegression(penalty='l2', C=1, multi_class='multinomial', max_iter=10000, random_state=0)\n",
    "model.fit(x_train, np.ravel(y_train))\n",
    "\n",
    "pred_train = model.predict(x_train)\n",
    "train_score = np.mean(pred_train == y_train)\n",
    "scores['Train Score'] = train_score\n",
    "\n",
    "pred_val = model.predict(x_val)\n",
    "val_score = np.mean(pred_val == y_val)\n",
    "scores['Validation Score'] = val_score\n",
    "\n",
    "pred_test = model.predict(x_test)\n",
    "test_score = np.mean(pred_test == y_test)\n",
    "scores['Test Score'] = test_score\n",
    "\n",
    "scores"
   ]
  },
  {
   "cell_type": "code",
   "execution_count": 29,
   "id": "2f500638-fe27-4132-8a97-4f1f75fb0aeb",
   "metadata": {},
   "outputs": [
    {
     "data": {
      "text/plain": [
       "[4, 30, 1, 30, 21, 30, 30, 1, 3, 30, 4, 2, 33, 30, 27, 10]"
      ]
     },
     "execution_count": 29,
     "metadata": {},
     "output_type": "execute_result"
    }
   ],
   "source": [
    "# Check for the least significant variable in each of the 16 classes\n",
    "# We see the most frequent variable is variable 30\n",
    "least_sig = []\n",
    "for coef in model.coef_:\n",
    "    least_sig.append(abs(coef).argmin())\n",
    "least_sig"
   ]
  },
  {
   "cell_type": "code",
   "execution_count": 30,
   "id": "db3916ff-088a-4d7f-8280-2805d33c2efb",
   "metadata": {},
   "outputs": [
    {
     "data": {
      "text/plain": [
       "'Primary streaming service_Pandora'"
      ]
     },
     "execution_count": 30,
     "metadata": {},
     "output_type": "execute_result"
    }
   ],
   "source": [
    "x_train.columns[30]"
   ]
  },
  {
   "cell_type": "code",
   "execution_count": 31,
   "id": "555f217b-b2e8-404e-ad02-a4af7109d2d6",
   "metadata": {},
   "outputs": [
    {
     "data": {
      "text/plain": [
       "[(0, 0.06759792940929418),\n",
       " (30, 0.10104318897339154),\n",
       " (5, 0.142525672025422),\n",
       " (1, 0.1509779041926324),\n",
       " (4, 0.16195643078158475),\n",
       " (2, 0.1722814763922373),\n",
       " (3, 0.19588315896127645),\n",
       " (27, 0.3451529102668703),\n",
       " (29, 0.3481297288706783),\n",
       " (32, 0.36570023896646225),\n",
       " (25, 0.40221720613081136),\n",
       " (14, 0.4128810677953718),\n",
       " (10, 0.4143379853958607),\n",
       " (22, 0.43149908830351075),\n",
       " (33, 0.43419042218181586),\n",
       " (24, 0.4355817688852581),\n",
       " (28, 0.46020665762722285),\n",
       " (31, 0.48921859617312663),\n",
       " (23, 0.49931092636773144),\n",
       " (15, 0.5240428692002866),\n",
       " (9, 0.5319542047078267),\n",
       " (7, 0.5439860428563553),\n",
       " (34, 0.5479928069131087),\n",
       " (26, 0.5674851933046193),\n",
       " (8, 0.5753241948580406),\n",
       " (13, 0.6240691513336181),\n",
       " (12, 0.640413027005568),\n",
       " (18, 0.6468081031175018),\n",
       " (20, 0.6689450090002431),\n",
       " (16, 0.6728739235381823),\n",
       " (21, 0.6878122541377898),\n",
       " (6, 0.6952610453227576),\n",
       " (17, 0.7063140287275981),\n",
       " (11, 0.7833581577375167),\n",
       " (19, 0.7920672369463386)]"
      ]
     },
     "execution_count": 31,
     "metadata": {},
     "output_type": "execute_result"
    }
   ],
   "source": [
    "# Take the average of coefficients for all 16 classes \n",
    "# and sort in increasing importance\n",
    "avg_coefs = (abs(np.mean(abs(model.coef_), axis=0)))\n",
    "sorted_indices = sorted(enumerate(avg_coefs), key=lambda x: x[1])\n",
    "sorted_indices"
   ]
  },
  {
   "cell_type": "code",
   "execution_count": 32,
   "id": "0ac12b31-715d-4baa-ab06-fd34d6706431",
   "metadata": {},
   "outputs": [
    {
     "data": {
      "text/plain": [
       "Index(['Age', 'Primary streaming service_Pandora', 'OCD'], dtype='object')"
      ]
     },
     "execution_count": 32,
     "metadata": {},
     "output_type": "execute_result"
    }
   ],
   "source": [
    "x_train.columns[[0,30,5]]"
   ]
  },
  {
   "cell_type": "code",
   "execution_count": 33,
   "id": "fefe3821-48b5-4d23-9b44-f1b34f607662",
   "metadata": {},
   "outputs": [
    {
     "data": {
      "text/plain": [
       "{'Train Score': 0.9706345044572627,\n",
       " 'Validation Score': 0.8930817610062893,\n",
       " 'Test Score': 0.5958904109589042}"
      ]
     },
     "execution_count": 33,
     "metadata": {},
     "output_type": "execute_result"
    }
   ],
   "source": [
    "# Logistic on scaled data after dropping feat 30\n",
    "# Best score here\n",
    "\n",
    "new_x_dev = x_dev.copy()\n",
    "new_x_test = x_test.copy()\n",
    "new_x_dev.drop(columns=x_train.columns[[30]], inplace=True)\n",
    "new_x_test.drop(columns=x_train.columns[[30]], inplace=True)\n",
    "new_x_train, new_x_val, y_train, y_val = train_test_split(new_x_dev, y_dev, train_size=0.8, random_state=0)\n",
    "ss = StandardScaler()\n",
    "new_x_train_sc = ss.fit_transform(new_x_train)\n",
    "new_x_val_sc = ss.transform(new_x_val)\n",
    "new_x_test_sc = ss.transform(new_x_test)\n",
    "\n",
    "scores = {}\n",
    "\n",
    "model = LogisticRegression(penalty='l2', C=1, multi_class='multinomial', max_iter=10000, random_state=0)\n",
    "model.fit(new_x_train_sc, np.ravel(y_train))\n",
    "\n",
    "pred_train = model.predict(new_x_train_sc)\n",
    "train_score = np.mean(pred_train == y_train)\n",
    "scores['Train Score'] = train_score\n",
    "\n",
    "pred_val = model.predict(new_x_val_sc)\n",
    "val_score = np.mean(pred_val == y_val)\n",
    "scores['Validation Score'] = val_score\n",
    "\n",
    "pred_test = model.predict(new_x_test_sc)\n",
    "test_score = np.mean(pred_test == y_test)\n",
    "scores['Test Score'] = test_score\n",
    "\n",
    "scores"
   ]
  },
  {
   "cell_type": "code",
   "execution_count": 34,
   "id": "3e4ac110-e8a1-4cd1-952a-4682d7108e1a",
   "metadata": {},
   "outputs": [
    {
     "data": {
      "text/plain": [
       "{'Train Score': 0.9627687467226009,\n",
       " 'Validation Score': 0.8909853249475891,\n",
       " 'Test Score': 0.589041095890411}"
      ]
     },
     "execution_count": 34,
     "metadata": {},
     "output_type": "execute_result"
    }
   ],
   "source": [
    "# Logistic on unscaled data after dropping feat 30\n",
    "\n",
    "new_x_dev = x_dev.copy()\n",
    "new_x_test = x_test.copy()\n",
    "new_x_dev.drop(columns=x_train.columns[30], inplace=True)\n",
    "new_x_test.drop(columns=x_train.columns[30], inplace=True)\n",
    "new_x_train, new_x_val, y_train, y_val = train_test_split(new_x_dev, y_dev, train_size=0.8)\n",
    "\n",
    "scores = {}\n",
    "\n",
    "model = LogisticRegression(penalty='l2', C=1, multi_class='multinomial', max_iter=10000, random_state=0)\n",
    "model.fit(new_x_train, np.ravel(y_train))\n",
    "\n",
    "pred_train = model.predict(new_x_train)\n",
    "train_score = np.mean(pred_train == y_train)\n",
    "scores['Train Score'] = train_score\n",
    "\n",
    "pred_val = model.predict(new_x_val)\n",
    "val_score = np.mean(pred_val == y_val)\n",
    "scores['Validation Score'] = val_score\n",
    "\n",
    "pred_test = model.predict(new_x_test)\n",
    "test_score = np.mean(pred_test == y_test)\n",
    "scores['Test Score'] = test_score\n",
    "\n",
    "scores"
   ]
  },
  {
   "cell_type": "code",
   "execution_count": 38,
   "id": "9ac53d5e-e81e-408e-91a0-9ba59e4a154c",
   "metadata": {},
   "outputs": [
    {
     "data": {
      "text/plain": [
       "{'Train Score': 0.9643418982695333,\n",
       " 'Validation Score': 0.9056603773584906,\n",
       " 'Test Score': 0.6027397260273972}"
      ]
     },
     "execution_count": 38,
     "metadata": {},
     "output_type": "execute_result"
    }
   ],
   "source": [
    "# Logistic on unscaled data\n",
    "\n",
    "x_dev = pd.read_csv('/Users/jennaiorio/Documents/Columbia/Spring 2024/Applied Machine Learning/Final Project/x_train_2.csv', index_col=[0])\n",
    "y_dev = pd.read_csv('/Users/jennaiorio/Documents/Columbia/Spring 2024/Applied Machine Learning/Final Project/y_train_2.csv', index_col=[0])\n",
    "x_test = pd.read_csv('/Users/jennaiorio/Documents/Columbia/Spring 2024/Applied Machine Learning/Final Project/x_test_2.csv', index_col=[0])\n",
    "y_test = pd.read_csv('/Users/jennaiorio/Documents/Columbia/Spring 2024/Applied Machine Learning/Final Project/y_test_2.csv', index_col=[0])\n",
    "y_dev = np.ravel(y_dev)\n",
    "y_test = np.ravel(y_test)\n",
    "x_train, x_val, y_train, y_val = train_test_split(x_dev, y_dev, train_size=0.8, random_state=0)\n",
    "\n",
    "scores = {}\n",
    "\n",
    "best_model = LogisticRegression(penalty='l2', C=1, multi_class='multinomial', max_iter=10000, random_state=0)\n",
    "best_model.fit(x_train, np.ravel(y_train))\n",
    "\n",
    "pred_train = best_model.predict(x_train)\n",
    "train_score = np.mean(pred_train == y_train)\n",
    "scores['Train Score'] = train_score\n",
    "\n",
    "pred_val = best_model.predict(x_val)\n",
    "val_score = np.mean(pred_val == y_val)\n",
    "scores['Validation Score'] = val_score\n",
    "\n",
    "pred_test = best_model.predict(x_test)\n",
    "test_score = np.mean(pred_test == y_test)\n",
    "scores['Test Score'] = test_score\n",
    "\n",
    "scores"
   ]
  },
  {
   "cell_type": "code",
   "execution_count": 40,
   "id": "ba1a9d75-3a6d-427b-88a7-05ce2a28ee90",
   "metadata": {},
   "outputs": [
    {
     "data": {
      "image/png": "[encoded data removed]",
      "text/plain": [
       "<Figure size 1500x600 with 2 Axes>"
      ]
     },
     "metadata": {},
     "output_type": "display_data"
    }
   ],
   "source": [
    "LABEL_MAP = pd.read_csv('/Users/jennaiorio/Documents/Columbia/Spring 2024/Applied Machine Learning/Final Project/label_map.csv')\n",
    "preds = best_model.predict(x_test)\n",
    "fig, ax = plt.subplots(figsize=(15,6))\n",
    "ax = sns.heatmap(tf.math.confusion_matrix(y_test, preds, 16, dtype=tf.dtypes.int32), annot=True, fmt=\".1f\", xticklabels=LABEL_MAP['Fav genre'], yticklabels=LABEL_MAP['Fav genre'])\n",
    "plt.xticks(rotation=60)\n",
    "\n",
    "plt.show()"
   ]
  },
  {
   "cell_type": "code",
   "execution_count": 41,
   "id": "4409ee40-9f13-442c-883b-1417693bc3a0",
   "metadata": {},
   "outputs": [
    {
     "name": "stdout",
     "output_type": "stream",
     "text": [
      "                  precision    recall  f1-score   support\n",
      "\n",
      "Video game music       0.50      0.33      0.40         9\n",
      "            Jazz       0.33      0.25      0.29         4\n",
      "             R&B       0.00      0.00      0.00         7\n",
      "           K pop       0.43      0.60      0.50         5\n",
      "            Rock       0.66      0.51      0.58        37\n",
      "         Country       0.71      1.00      0.83         5\n",
      "             EDM       0.50      0.29      0.36         7\n",
      "         Hip hop       0.50      0.57      0.53         7\n",
      "             Pop       0.60      0.78      0.68        23\n",
      "             Rap       0.50      0.50      0.50         4\n",
      "       Classical       0.89      0.73      0.80        11\n",
      "           Metal       0.71      0.94      0.81        18\n",
      "            Folk       0.57      0.67      0.62         6\n",
      "            Lofi       1.00      0.50      0.67         2\n",
      "          Gospel       1.00      1.00      1.00         1\n",
      "\n",
      "        accuracy                           0.60       146\n",
      "       macro avg       0.59      0.58      0.57       146\n",
      "    weighted avg       0.60      0.60      0.59       146\n",
      "\n"
     ]
    }
   ],
   "source": [
    "from sklearn.metrics import classification_report\n",
    "\n",
    "labels = LABEL_MAP['Fav genre'].copy()\n",
    "labels = labels.values.tolist()\n",
    "labels.remove('Latin')\n",
    "print(classification_report(y_test, preds, target_names=labels))"
   ]
  },
  {
   "cell_type": "code",
   "execution_count": null,
   "id": "441e4428-8265-49a6-8f89-3eccd3850d0a",
   "metadata": {},
   "outputs": [],
   "source": []
  }
 ],
 "metadata": {
  "kernelspec": {
   "display_name": "Python 3 (ipykernel)",
   "language": "python",
   "name": "python3"
  },
  "language_info": {
   "codemirror_mode": {
    "name": "ipython",
    "version": 3
   },
   "file_extension": ".py",
   "mimetype": "text/x-python",
   "name": "python",
   "nbconvert_exporter": "python",
   "pygments_lexer": "ipython3",
   "version": "3.11.7"
  }
 },
 "nbformat": 4,
 "nbformat_minor": 5
}
